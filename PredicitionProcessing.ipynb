{
 "cells": [
  {
   "cell_type": "markdown",
   "id": "6cb20451-f918-487d-9bf1-503b6a926a65",
   "metadata": {},
   "source": [
    "# RUN THIS FOR MODEL TESTING.\n",
    "# FOR NEW PREDICTIONS SCROLL DOWN TO THE NEXT HEADER"
   ]
  },
  {
   "cell_type": "code",
   "execution_count": 1,
   "id": "fd32d4e4-dc2c-4d12-962a-b13069d0b460",
   "metadata": {
    "tags": []
   },
   "outputs": [],
   "source": [
    "s3_prediction_output_path = \"Outputs/PreprocessedGreyscaleOutput/\"\n",
    "local_prediciton_temp_store = \"Local_prediction_store\"\n",
    "s3_bucket_name = \"summer2024-sagemaker-data-bucket\"\n",
    "s3_ground_truth_path = \"trainGreyscale/train_lst_full.lst\"\n",
    "local_ground_truth_temp_store = \"Local_prediction_store\"\n",
    "\n",
    "\n",
    "import pandas as pd\n",
    "import boto3\n",
    "import os\n",
    "import json\n",
    "import numpy as np\n",
    "from PIL import Image\n",
    "import matplotlib.pyplot as plt"
   ]
  },
  {
   "cell_type": "code",
   "execution_count": 2,
   "id": "695f4d03-676d-4fee-a63e-9dc63c7c7472",
   "metadata": {
    "tags": []
   },
   "outputs": [],
   "source": [
    "KEYS = \"ajarriet_accessKeys.csv\" # change to your path\n",
    "    \n",
    "keyInfo = pd.read_csv(KEYS)\n",
    "\n",
    "# Create a boto3 resource with your credentials\n",
    "s3 = boto3.client(\"s3\")"
   ]
  },
  {
   "cell_type": "code",
   "execution_count": 3,
   "id": "5317580f-ad4e-4dba-867e-219fce8fd202",
   "metadata": {
    "tags": []
   },
   "outputs": [
    {
     "name": "stdout",
     "output_type": "stream",
     "text": [
      "       index  Classification                                            File  \\\n",
      "0          1               0           6805.230201090825_processed.wav_1.png   \n",
      "1          2               1           6805.230201090825_processed.wav_2.png   \n",
      "2          3               0           6805.230201090825_processed.wav_3.png   \n",
      "3          4               1           6805.230201090825_processed.wav_4.png   \n",
      "4          5               0           6805.230201090825_processed.wav_5.png   \n",
      "...      ...             ...                                             ...   \n",
      "14441  17982               1  671658014.181007153417_processed.wav_17982.png   \n",
      "14442  17983               1  671658014.181007153417_processed.wav_17983.png   \n",
      "14443  17984               1  671658014.181007153417_processed.wav_17984.png   \n",
      "14444  17987               0  671658014.181007153417_processed.wav_17987.png   \n",
      "14445  17988               0  671658014.181007153417_processed.wav_17988.png   \n",
      "\n",
      "              Start           End  \n",
      "0          0.000000      6.399772  \n",
      "1          6.399772     12.799545  \n",
      "2         12.799545     19.199317  \n",
      "3         19.199317     25.599090  \n",
      "4         25.599090     31.998862  \n",
      "...             ...           ...  \n",
      "14441  10751.936282  10758.336244  \n",
      "14442  10758.336244  10764.736206  \n",
      "14443  10764.736206  10771.136168  \n",
      "14444  10783.936092  10790.336054  \n",
      "14445  10790.336054  10796.736016  \n",
      "\n",
      "[14446 rows x 5 columns]\n"
     ]
    }
   ],
   "source": [
    "#This uses the training manifest file as the ground truth\n",
    "s3.download_file(s3_bucket_name, s3_ground_truth_path, local_ground_truth_temp_store + \"/groundtruth.csv\")\n",
    "\n",
    "groundTruthDataframe = pd.read_csv(local_ground_truth_temp_store + \"/groundtruth.csv\", sep = \"\\t\", names = [\"index\", \"Classification\", \"File\", \"Start\", \"End\"])\n",
    "\n",
    "#This just gets the file name without all of the directory info\n",
    "groundTruthDataframe[\"File\"] = groundTruthDataframe[\"File\"].str.split(\"/\").apply(lambda x: x[-1])\n",
    "\n",
    "print(groundTruthDataframe)"
   ]
  },
  {
   "cell_type": "code",
   "execution_count": null,
   "id": "24ccb77e-8cf4-4dbf-8843-16ff8989797c",
   "metadata": {
    "tags": []
   },
   "outputs": [
    {
     "name": "stdout",
     "output_type": "stream",
     "text": [
      "True\n",
      "True\n",
      "True\n",
      "True\n",
      "True\n",
      "True\n",
      "True\n",
      "True\n",
      "True\n",
      "True\n",
      "True\n",
      "True\n",
      "True\n",
      "True\n",
      "False\n"
     ]
    }
   ],
   "source": [
    "readAllResults = False\n",
    "resultsDataframe = pd.DataFrame(columns = [\"File\", \"Prediction\"])\n",
    "\n",
    "#This call batches in units of 1000\n",
    "response = s3.list_objects_v2(\n",
    "    Bucket= s3_bucket_name,\n",
    "    Prefix= s3_prediction_output_path,\n",
    "    StartAfter = s3_prediction_output_path)\n",
    "\n",
    "#This iterates over all the responses\n",
    "while not readAllResults:\n",
    "    print(response['IsTruncated'])\n",
    "    \n",
    "    readAllResults = not response['IsTruncated']\n",
    "    finalKey = \"\"\n",
    "    for content in response.get('Contents', []):\n",
    "        #print(content[\"Key\"])\n",
    "        #The return format for this call is JSON. The info can be found on the boto3 docs\n",
    "        s3.download_file(s3_bucket_name,content[\"Key\"], local_prediciton_temp_store + \"/\" + content[\"Key\"].split(\"/\")[-1])\n",
    "        f = open(local_prediciton_temp_store + \"/\" + content[\"Key\"].split(\"/\")[-1], \"r\")\n",
    "        temp = pd.DataFrame({\"File\" : content[\"Key\"].split(\"/\")[-1][:-4], \"Prediction\" : [json.loads(f.read())[\"prediction\"]]})\n",
    "        resultsDataframe = pd.concat([resultsDataframe, temp], ignore_index=True)\n",
    "        os.remove(local_prediciton_temp_store + \"/\" + content[\"Key\"].split(\"/\")[-1])\n",
    "        finalKey = content[\"Key\"]\n",
    "\n",
    "    if not response['IsTruncated']:\n",
    "        break\n",
    "\n",
    "    response = s3.list_objects_v2(\n",
    "        Bucket = s3_bucket_name,\n",
    "        Prefix = s3_prediction_output_path,\n",
    "        StartAfter = finalKey)"
   ]
  },
  {
   "cell_type": "code",
   "execution_count": null,
   "id": "ea8dff65-fb66-41f8-ab07-7c1e83d7acab",
   "metadata": {
    "tags": []
   },
   "outputs": [],
   "source": [
    "print(resultsDataframe)"
   ]
  },
  {
   "cell_type": "code",
   "execution_count": null,
   "id": "761e9d6e-ccaa-4529-adc6-340c232d835f",
   "metadata": {
    "tags": []
   },
   "outputs": [],
   "source": [
    "fullResultsDF = pd.merge(left = groundTruthDataframe, right = resultsDataframe)"
   ]
  },
  {
   "cell_type": "code",
   "execution_count": null,
   "id": "ad25b837-0ef8-4ab3-9c22-3a2457501cee",
   "metadata": {
    "tags": []
   },
   "outputs": [],
   "source": [
    "print(fullResultsDF)"
   ]
  },
  {
   "cell_type": "code",
   "execution_count": null,
   "id": "0fb8572d-133e-4c17-addf-1c25fcc4a54e",
   "metadata": {
    "tags": []
   },
   "outputs": [],
   "source": [
    "#Calculate precsision-recall using different thresholds\n",
    "F1DF = pd.DataFrame(columns = [\"Threshold\", \"Precision\", \"Recall\", \"F1\"])\n",
    "for threshold in range(0,1000):\n",
    "    tempDF = fullResultsDF.copy()\n",
    "    tempDF[\"Prediction\"] = tempDF[\"Prediction\"].apply(lambda x: x[1] > threshold/1000)\n",
    "    TP = ((tempDF[\"Prediction\"] == tempDF[\"Classification\"]) & (tempDF[\"Classification\"] == 1)).sum()\n",
    "    FP = ((tempDF[\"Prediction\"] != tempDF[\"Classification\"]) & (tempDF[\"Classification\"] == 0)).sum()\n",
    "    FN = ((tempDF[\"Prediction\"] != tempDF[\"Classification\"]) & (tempDF[\"Classification\"] == 1)).sum()\n",
    "    precision = TP/(TP+FP) if (TP + FP) != 0 else 0\n",
    "    recall = TP/(TP+FN) if (TP + FN) != 0 else 0\n",
    "    f1 = (2*precision*recall)/(precision+recall) if (precision+recall) != 0 else 0\n",
    "    temp = pd.DataFrame({\"Threshold\": threshold, \"Precision\": precision, \"Recall\": recall, \"F1\" : f1}, index=[0])\n",
    "    F1DF = pd.concat([F1DF, temp], ignore_index = True)\n",
    "F1DF = F1DF.fillna(0)"
   ]
  },
  {
   "cell_type": "code",
   "execution_count": null,
   "id": "a604221f-6036-40e4-afcd-19bc82914a62",
   "metadata": {
    "tags": []
   },
   "outputs": [],
   "source": [
    "fig, ax = plt.subplots()\n",
    "plt.plot(F1DF[\"Precision\"], F1DF[\"Recall\"])\n",
    "plt.xlabel(\"Time (s)\")\n",
    "plt.ylabel(\"Freq (Mels)\")\n",
    "plt.grid(visible = True)\n",
    "plt.show()\n",
    "fig.savefig(\"testFig\", transparent = True)"
   ]
  },
  {
   "cell_type": "code",
   "execution_count": 49,
   "id": "ee9463aa-59c5-40d3-a5ff-7313bea72969",
   "metadata": {
    "tags": []
   },
   "outputs": [
    {
     "data": {
      "text/plain": [
       "14446"
      ]
     },
     "execution_count": 49,
     "metadata": {},
     "output_type": "execute_result"
    }
   ],
   "source": [
    "len(fullResultsDF[fullResultsDF[\"Prediction\"].apply(lambda x: x[1] > .0001)].index)"
   ]
  },
  {
   "cell_type": "code",
   "execution_count": 50,
   "id": "1eb332e3-1383-4392-bc5e-9dc5a07be443",
   "metadata": {
    "tags": []
   },
   "outputs": [
    {
     "data": {
      "text/plain": [
       "<Axes: xlabel='Threshold'>"
      ]
     },
     "execution_count": 50,
     "metadata": {},
     "output_type": "execute_result"
    },
    {
     "data": {
      "image/png": "[encoded data removed]",
      "text/plain": [
       "<Figure size 640x480 with 1 Axes>"
      ]
     },
     "metadata": {},
     "output_type": "display_data"
    }
   ],
   "source": [
    "fig, ax = plt.subplots()\n",
    "plt.plot(F1DF[\"Threshold\"], F1DF[\"F1\"])\n",
    "plt.xlabel(\"Threshold\")\n",
    "plt.ylabel(\"F1\")\n",
    "plt.grid(visible = True)\n",
    "plt.show()\n",
    "fig.savefig(\"testFig\", transparent = True)"
   ]
  },
  {
   "cell_type": "code",
   "execution_count": 51,
   "id": "8aeb3fd0-049b-4935-80e0-0c5ffe38439c",
   "metadata": {
    "tags": []
   },
   "outputs": [
    {
     "data": {
      "text/plain": [
       "Threshold    237.000000\n",
       "Precision      0.578106\n",
       "Recall         0.759615\n",
       "F1             0.656547\n",
       "Name: 237, dtype: float64"
      ]
     },
     "execution_count": 51,
     "metadata": {},
     "output_type": "execute_result"
    }
   ],
   "source": [
    "F1DF.iloc[F1DF[\"F1\"].idxmax()]"
   ]
  },
  {
   "cell_type": "code",
   "execution_count": 52,
   "id": "f1794bc0-f022-46a1-9619-1afb7b1414d9",
   "metadata": {
    "tags": []
   },
   "outputs": [
    {
     "data": {
      "image/png": "[encoded data removed]",
      "text/plain": [
       "<Figure size 800x600 with 1 Axes>"
      ]
     },
     "metadata": {},
     "output_type": "display_data"
    }
   ],
   "source": [
    "import matplotlib.pyplot as plt\n",
    "\n",
    "rocaucDF = pd.DataFrame(columns=[\"Threshold\", \"TPR\", \"FPR\"])\n",
    "acc = []\n",
    "\n",
    "for threshold in range(1001): \n",
    "    tempDF = fullResultsDF.copy()\n",
    "    tempDF[\"Prediction\"] = tempDF[\"Prediction\"].apply(lambda x: x[1] > threshold / 1000)\n",
    "    TP = ((tempDF[\"Prediction\"] == 1) & (tempDF[\"Classification\"] == 1)).sum()\n",
    "    FP = ((tempDF[\"Prediction\"] == 1) & (tempDF[\"Classification\"] == 0)).sum()\n",
    "    FN = ((tempDF[\"Prediction\"] == 0) & (tempDF[\"Classification\"] == 1)).sum()\n",
    "    TN = ((tempDF[\"Prediction\"] == 0) & (tempDF[\"Classification\"] == 0)).sum()\n",
    "\n",
    "    TPR = TP / (TP + FN) \n",
    "    FPR = FP / (FP + TN) \n",
    "    acc.append((TP + TN)/(TP+FP+FN+TN))\n",
    "\n",
    "    temp = pd.DataFrame({\"Threshold\": threshold, \"TPR\": TPR, \"FPR\": FPR}, index=[0])\n",
    "    rocaucDF = pd.concat([rocaucDF, temp], ignore_index=True)"
   ]
  },
  {
   "cell_type": "code",
   "execution_count": null,
   "id": "915c2a02-bba0-44f8-9911-48bb0c7b7c14",
   "metadata": {},
   "outputs": [],
   "source": [
    "ref_x = [0,1]\n",
    "ref_y = [0,1]\n",
    "fig = plt.figure(figsize=(8, 6))\n",
    "plt.plot(rocaucDF[\"FPR\"], rocaucDF[\"TPR\"], marker='o')\n",
    "plt.plot(ref_x, ref_y)\n",
    "plt.title('ROC Curve (FPR vs TPR)')\n",
    "plt.xlabel('FPR')\n",
    "plt.ylabel('TPR')\n",
    "plt.grid(visible = True)\n",
    "plt.show()\n",
    "fig.savefig(\"testFig\", transparent = True)"
   ]
  },
  {
   "cell_type": "code",
   "execution_count": 53,
   "id": "85a0cbe8-3341-4b41-a114-23f1b9cfd4fc",
   "metadata": {
    "tags": []
   },
   "outputs": [
    {
     "data": {
      "text/plain": [
       "0.35276201024505055"
      ]
     },
     "execution_count": 53,
     "metadata": {},
     "output_type": "execute_result"
    }
   ],
   "source": [
    "fullResultsDF[\"Classification\"].mean()"
   ]
  },
  {
   "cell_type": "code",
   "execution_count": 54,
   "id": "67f2ac11-2b5e-4186-a853-e856388f50c4",
   "metadata": {
    "tags": []
   },
   "outputs": [
    {
     "data": {
      "text/plain": [
       "0.6472379897549494"
      ]
     },
     "execution_count": 54,
     "metadata": {},
     "output_type": "execute_result"
    }
   ],
   "source": [
    "1-groundTruthDataframe[\"Classification\"].mean()"
   ]
  },
  {
   "cell_type": "code",
   "execution_count": 55,
   "id": "cee218bf-7216-4950-8282-4fbc4dd47379",
   "metadata": {
    "tags": []
   },
   "outputs": [
    {
     "data": {
      "text/plain": [
       "1.4001381054900655e-08"
      ]
     },
     "execution_count": 55,
     "metadata": {},
     "output_type": "execute_result"
    }
   ],
   "source": [
    "(fullResultsDF[\"Prediction\"].apply(lambda x: x[0] + x[1]) - 1).apply(lambda x: max(x,0)).mean()"
   ]
  },
  {
   "cell_type": "code",
   "execution_count": 56,
   "id": "9fdd528d-b21d-46dd-afb9-e0f9ce06a9be",
   "metadata": {
    "tags": []
   },
   "outputs": [
    {
     "data": {
      "text/plain": [
       "0.22588902093427188"
      ]
     },
     "execution_count": 56,
     "metadata": {},
     "output_type": "execute_result"
    }
   ],
   "source": [
    "fullResultsDF[fullResultsDF[\"Prediction\"].apply(lambda x: np.argmax(x)) == fullResultsDF[\"Classification\"]][\"Classification\"].mean()"
   ]
  },
  {
   "cell_type": "code",
   "execution_count": 57,
   "id": "b1312b3b-045f-473f-8074-581207848ca9",
   "metadata": {
    "tags": []
   },
   "outputs": [
    {
     "data": {
      "text/plain": [
       "0.7612487885919977"
      ]
     },
     "execution_count": 57,
     "metadata": {},
     "output_type": "execute_result"
    }
   ],
   "source": [
    "max(acc)"
   ]
  },
  {
   "cell_type": "code",
   "execution_count": 58,
   "id": "d0dd5ca1-3d28-4eed-aefc-d218afcf2708",
   "metadata": {
    "tags": []
   },
   "outputs": [
    {
     "data": {
      "text/plain": [
       "Threshold    500.000000\n",
       "Precision      0.736952\n",
       "Recall         0.484890\n",
       "F1             0.584921\n",
       "Name: 500, dtype: float64"
      ]
     },
     "execution_count": 58,
     "metadata": {},
     "output_type": "execute_result"
    }
   ],
   "source": [
    "F1DF.iloc[500]"
   ]
  },
  {
   "cell_type": "code",
   "execution_count": 59,
   "id": "8d554beb-7fa3-43b4-b784-bb17340d531b",
   "metadata": {
    "tags": []
   },
   "outputs": [
    {
     "data": {
      "text/plain": [
       "4031"
      ]
     },
     "execution_count": 59,
     "metadata": {},
     "output_type": "execute_result"
    }
   ],
   "source": [
    "fullResultsDF[\"Prediction\"].apply(lambda x: x[1] > 400/1000).sum()"
   ]
  },
  {
   "cell_type": "code",
   "execution_count": 60,
   "id": "6cb70d14-6d6f-469b-a1d0-2ad4c3cfde32",
   "metadata": {
    "tags": []
   },
   "outputs": [
    {
     "data": {
      "text/plain": [
       "983"
      ]
     },
     "execution_count": 60,
     "metadata": {},
     "output_type": "execute_result"
    }
   ],
   "source": [
    "(rocaucDF[\"TPR\"] / rocaucDF[\"FPR\"]).fillna(0).idxmax()"
   ]
  },
  {
   "cell_type": "code",
   "execution_count": 61,
   "id": "1a0e0108-41f9-436e-ac95-572b1f1587e2",
   "metadata": {
    "tags": []
   },
   "outputs": [
    {
     "data": {
      "text/plain": [
       "11.904003139717426"
      ]
     },
     "execution_count": 61,
     "metadata": {},
     "output_type": "execute_result"
    }
   ],
   "source": [
    "(rocaucDF[\"TPR\"] / rocaucDF[\"FPR\"]).fillna(0).max()"
   ]
  },
  {
   "cell_type": "code",
   "execution_count": 62,
   "id": "801933ba-2d98-418f-a079-e4459cb6415a",
   "metadata": {
    "tags": []
   },
   "outputs": [
    {
     "data": {
      "text/html": [
       "<div>\n",
       "<style scoped>\n",
       "    .dataframe tbody tr th:only-of-type {\n",
       "        vertical-align: middle;\n",
       "    }\n",
       "\n",
       "    .dataframe tbody tr th {\n",
       "        vertical-align: top;\n",
       "    }\n",
       "\n",
       "    .dataframe thead th {\n",
       "        text-align: right;\n",
       "    }\n",
       "</style>\n",
       "<table border=\"1\" class=\"dataframe\">\n",
       "  <thead>\n",
       "    <tr style=\"text-align: right;\">\n",
       "      <th></th>\n",
       "      <th>Threshold</th>\n",
       "      <th>TPR</th>\n",
       "      <th>FPR</th>\n",
       "    </tr>\n",
       "  </thead>\n",
       "  <tbody>\n",
       "    <tr>\n",
       "      <th>0</th>\n",
       "      <td>0</td>\n",
       "      <td>1.000000</td>\n",
       "      <td>1.000000</td>\n",
       "    </tr>\n",
       "    <tr>\n",
       "      <th>1</th>\n",
       "      <td>1</td>\n",
       "      <td>1.000000</td>\n",
       "      <td>1.000000</td>\n",
       "    </tr>\n",
       "    <tr>\n",
       "      <th>2</th>\n",
       "      <td>2</td>\n",
       "      <td>1.000000</td>\n",
       "      <td>1.000000</td>\n",
       "    </tr>\n",
       "    <tr>\n",
       "      <th>3</th>\n",
       "      <td>3</td>\n",
       "      <td>1.000000</td>\n",
       "      <td>1.000000</td>\n",
       "    </tr>\n",
       "    <tr>\n",
       "      <th>4</th>\n",
       "      <td>4</td>\n",
       "      <td>1.000000</td>\n",
       "      <td>1.000000</td>\n",
       "    </tr>\n",
       "    <tr>\n",
       "      <th>...</th>\n",
       "      <td>...</td>\n",
       "      <td>...</td>\n",
       "      <td>...</td>\n",
       "    </tr>\n",
       "    <tr>\n",
       "      <th>996</th>\n",
       "      <td>996</td>\n",
       "      <td>0.104592</td>\n",
       "      <td>0.009305</td>\n",
       "    </tr>\n",
       "    <tr>\n",
       "      <th>997</th>\n",
       "      <td>997</td>\n",
       "      <td>0.095369</td>\n",
       "      <td>0.008770</td>\n",
       "    </tr>\n",
       "    <tr>\n",
       "      <th>998</th>\n",
       "      <td>998</td>\n",
       "      <td>0.083595</td>\n",
       "      <td>0.007380</td>\n",
       "    </tr>\n",
       "    <tr>\n",
       "      <th>999</th>\n",
       "      <td>999</td>\n",
       "      <td>0.069466</td>\n",
       "      <td>0.006203</td>\n",
       "    </tr>\n",
       "    <tr>\n",
       "      <th>1000</th>\n",
       "      <td>1000</td>\n",
       "      <td>0.000000</td>\n",
       "      <td>0.000000</td>\n",
       "    </tr>\n",
       "  </tbody>\n",
       "</table>\n",
       "<p>1001 rows × 3 columns</p>\n",
       "</div>"
      ],
      "text/plain": [
       "     Threshold       TPR       FPR\n",
       "0            0  1.000000  1.000000\n",
       "1            1  1.000000  1.000000\n",
       "2            2  1.000000  1.000000\n",
       "3            3  1.000000  1.000000\n",
       "4            4  1.000000  1.000000\n",
       "...        ...       ...       ...\n",
       "996        996  0.104592  0.009305\n",
       "997        997  0.095369  0.008770\n",
       "998        998  0.083595  0.007380\n",
       "999        999  0.069466  0.006203\n",
       "1000      1000  0.000000  0.000000\n",
       "\n",
       "[1001 rows x 3 columns]"
      ]
     },
     "execution_count": 62,
     "metadata": {},
     "output_type": "execute_result"
    }
   ],
   "source": [
    "rocaucDF"
   ]
  },
  {
   "cell_type": "code",
   "execution_count": 63,
   "id": "10bb0f68-2537-4745-8080-ca9f544d7a88",
   "metadata": {
    "tags": []
   },
   "outputs": [
    {
     "name": "stdout",
     "output_type": "stream",
     "text": [
      "0.4848901098901099 0.09433155080213904\n"
     ]
    }
   ],
   "source": [
    "rocaucDF = pd.DataFrame(columns=[\"Threshold\", \"TPR\", \"FPR\"])\n",
    "acc = []\n",
    "\n",
    "tempDF = fullResultsDF.copy()\n",
    "tempDF[\"Prediction\"] = tempDF[\"Prediction\"].apply(lambda x: np.argmax(x))\n",
    "TP = ((tempDF[\"Prediction\"] == 1) & (tempDF[\"Classification\"] == 1)).sum()\n",
    "FP = ((tempDF[\"Prediction\"] == 1) & (tempDF[\"Classification\"] == 0)).sum()\n",
    "FN = ((tempDF[\"Prediction\"] == 0) & (tempDF[\"Classification\"] == 1)).sum()\n",
    "TN = ((tempDF[\"Prediction\"] == 0) & (tempDF[\"Classification\"] == 0)).sum()\n",
    "\n",
    "TPR = TP / (TP + FN) \n",
    "FPR = FP / (FP + TN) \n",
    "\n",
    "print(TPR, FPR)"
   ]
  },
  {
   "cell_type": "code",
   "execution_count": 64,
   "id": "ac0a8776-7c72-4b46-8635-0eb582055aa2",
   "metadata": {},
   "outputs": [],
   "source": [
    "def displayImage(s3FilePath, fileInfo, resultsDF, localStore, resizeFactor = 2):\n",
    "    s3.download_file(s3_bucket_name, s3FilePath + fileInfo[\"File\"], localStore + fileInfo[\"File\"])\n",
    "    print(\"File: \" + fileInfo[\"File\"][:fileInfo[\"File\"].find(\".wav\") + 4])\n",
    "    print(\"Time start (s): \" + str(fileInfo[\"Start\"]))\n",
    "    print(\"Time start (h:mm:ss): \" + str(int(fileInfo[\"Start\"]/60/60)) + \":\" + str(int(fileInfo[\"Start\"]/60%60)) + \":\" + str(int(fileInfo[\"Start\"]%60%60)))\n",
    "    print(\"Time end (s): \" + str(fileInfo[\"End\"]))\n",
    "    print(\"Time end (h:mm:ss): \" + str(int(fileInfo[\"End\"]/60/60)) + \":\" + str(int(fileInfo[\"End\"]/60%60)) + \":\" + str(int(fileInfo[\"End\"]%60%60)))\n",
    "    if(resultsDF.iloc[resultsDF.isin([fileInfo[\"File\"]]).any(axis=1).idxmax()][\"Classification\"] == 1):\n",
    "        print(\"Call present: Yes\")\n",
    "    else:\n",
    "        print(\"Call present: No\")\n",
    "    print(\"Predicted probability no: \" + str(resultsDF.iloc[resultsDF.isin([fileInfo[\"File\"]]).any(axis=1).idxmax()][\"Prediction\"][0]*100))\n",
    "    print(\"Predicted probability yes: \" + str(resultsDF.iloc[resultsDF.isin([fileInfo[\"File\"]]).any(axis=1).idxmax()][\"Prediction\"][1]*100))\n",
    "    print(\"Prediction w/ threshold of max f1: \" + str(resultsDF.iloc[resultsDF.isin([fileInfo[\"File\"]]).any(axis=1).idxmax()][\"Prediction\"][1] > 790/1000))\n",
    "    with Image.open(localStore + fileInfo[\"File\"]) as im:\n",
    "        im.resize((im.width * resizeFactor, im.height * resizeFactor)).show()\n",
    "    os.remove(localStore + fileInfo[\"File\"])"
   ]
  },
  {
   "cell_type": "code",
   "execution_count": 65,
   "id": "346a7400-f147-4136-9947-7c62ec333dbd",
   "metadata": {
    "tags": []
   },
   "outputs": [
    {
     "name": "stdout",
     "output_type": "stream",
     "text": [
      "File: 6805.230201090825_processed.wav\n",
      "Time start (s): 44.79840716774515\n",
      "Time start (h:mm:ss): 0:0:44\n",
      "Time end (s): 51.19817962028017\n",
      "Time end (h:mm:ss): 0:0:51\n",
      "Call present: No\n",
      "Predicted probability no: 82.36034512519836\n",
      "Predicted probability yes: 17.639654874801636\n",
      "Prediction w/ threshold of max f1: False\n"
     ]
    },
    {
     "data": {
      "image/png": "[encoded data removed]",
      "text/plain": [
       "<PIL.Image.Image image mode=RGBA size=200x384>"
      ]
     },
     "metadata": {},
     "output_type": "display_data"
    }
   ],
   "source": [
    "displayImage(\"trainGreyscale/images/\", fullResultsDF.iloc[7], fullResultsDF, \"Local_image_store/\")"
   ]
  },
  {
   "cell_type": "markdown",
   "id": "9e808fce-7ef2-4d32-ac18-237e91bd26b6",
   "metadata": {},
   "source": [
    "# RUN THE BELOW IF ALL YOU WANT IS PREDICTIONS ON NEW FILES"
   ]
  },
  {
   "cell_type": "code",
   "execution_count": 68,
   "id": "f37a52a7-365f-4bff-97b5-e2b9572a6491",
   "metadata": {},
   "outputs": [],
   "source": [
    "s3_prediction_output_path = \"Outputs/NoAnnotationTestOutput/\"\n",
    "s3_time_stamps = \"noAnnotationTest/result_lst.lst\"\n",
    "local_prediciton_temp_store = \"Local_prediction_store\"\n",
    "s3_bucket_name = \"summer2024-sagemaker-data-bucket\"\n",
    "\n",
    "\n",
    "import pandas as pd\n",
    "import boto3\n",
    "import os\n",
    "import json\n",
    "import numpy as np\n",
    "from PIL import Image"
   ]
  },
  {
   "cell_type": "code",
   "execution_count": 69,
   "id": "20ffa585-b47a-42b2-9b61-c475943fabf4",
   "metadata": {},
   "outputs": [],
   "source": [
    "KEYS = \"ajarriet_accessKeys.csv\" # change to your path\n",
    "    \n",
    "keyInfo = pd.read_csv(KEYS)\n",
    "\n",
    "# Create a boto3 resource with your credentials\n",
    "s3 = boto3.client(\"s3\")"
   ]
  },
  {
   "cell_type": "code",
   "execution_count": 70,
   "id": "a747ff83-a3da-4428-b9bb-c7a1ae5ebdb4",
   "metadata": {},
   "outputs": [],
   "source": [
    "def getPreds(s3PredDir, localStore, bucketName):\n",
    "    readAllResults = False\n",
    "    resultsDataframe = pd.DataFrame(columns = [\"File\", \"Prediction\"])\n",
    "\n",
    "    response = s3.list_objects_v2(\n",
    "        Bucket= bucketName,\n",
    "        Prefix= s3PredDir,\n",
    "        StartAfter = s3PredDir)\n",
    "\n",
    "    while not readAllResults:\n",
    "        print(response['IsTruncated'])\n",
    "\n",
    "        readAllResults = not response['IsTruncated']\n",
    "        finalKey = \"\"\n",
    "        for content in response.get('Contents', []):\n",
    "            #print(content[\"Key\"])\n",
    "            s3.download_file(bucketName,content[\"Key\"], localStore + \"/\" + content[\"Key\"].split(\"/\")[-1])\n",
    "            f = open(localStore + \"/\" + content[\"Key\"].split(\"/\")[-1], \"r\")\n",
    "            temp = pd.DataFrame({\"File\" : content[\"Key\"].split(\"/\")[-1][:-4], \"Prediction\" : [json.loads(f.read())[\"prediction\"]]})\n",
    "            resultsDataframe = pd.concat([resultsDataframe, temp], ignore_index=True)\n",
    "            os.remove(localStore + \"/\" + content[\"Key\"].split(\"/\")[-1])\n",
    "            finalKey = content[\"Key\"]\n",
    "\n",
    "        if not response['IsTruncated']:\n",
    "            break\n",
    "\n",
    "        response = s3.list_objects_v2(\n",
    "            Bucket = bucketName,\n",
    "            Prefix = s3PredDir,\n",
    "            StartAfter = finalKey)\n",
    "    return resultsDataframe"
   ]
  },
  {
   "cell_type": "code",
   "execution_count": 71,
   "id": "858a49b3-cede-434a-91bb-a34de7d59dc1",
   "metadata": {},
   "outputs": [],
   "source": [
    "def compileResultsVerbose(resultsDF, localStore, threshold = -1):\n",
    "    file = open(localStore + \"/verboseResults.txt\", \"w\")\n",
    "    resultsDF = resultsDF.sort_values(by = [\"File\", \"Start\"])\n",
    "    for index, data in resultsDF.iterrows():\n",
    "        file.write(\"--------------------------------\\nFile: \" + data[\"File\"][:data[\"File\"].find(\".wav\") + 4] + \"\\n\")\n",
    "        file.write(\"Time start (s): \" + str(data[\"Start\"]) + \"\\n\")\n",
    "        file.write(\"Time start (hh:mm:ss): {:02d}:{:02d}:{:02d}\\n\".format(int(data[\"Start\"]/60/60), int(data[\"Start\"]/60%60), int(data[\"Start\"]%60%60)))\n",
    "        file.write(\"Time end (s): \" + str(data[\"End\"]) + \"\\n\")\n",
    "        file.write(\"Time start (hh:mm:ss): {:02d}:{:02d}:{:02d}\\n\".format(int(data[\"End\"]/60/60), int(data[\"End\"]/60%60), int(data[\"End\"]%60%60)))\n",
    "        file.write(\"Predicted probability no: \" + str(data[\"Prediction\"][0]*100) + \"\\n\")\n",
    "        file.write(\"Predicted probability no: \" + str(data[\"Prediction\"][1]*100) + \"\\n\")\n",
    "        if threshold > 0 and threshold < 1:\n",
    "            if data[\"Prediction\"][1] > threshold:\n",
    "                file.write(\"Prediction w/ threshold of \" + str(threshold) + \": Yes\\n\")\n",
    "            else:\n",
    "                file.write(\"Prediction w/ threshold of \" + str(threshold) + \": No\\n\")\n",
    "    file.close()"
   ]
  },
  {
   "cell_type": "code",
   "execution_count": 110,
   "id": "4aff9d11-6048-446f-9a8d-c96d77507c14",
   "metadata": {},
   "outputs": [],
   "source": [
    "def compileResults(resultsDF, localStore, threshold = .5):\n",
    "    if threshold < 0 or threshold > 1:\n",
    "        print(\"Invalid threshold, must be between 0 and 1\")\n",
    "    file = open(localStore + \"/compiledResults.txt\", \"w\")\n",
    "    currStart = -1\n",
    "    currEnd = 0\n",
    "    avgProb = 0\n",
    "    currFile = \"\"\n",
    "    i = 0\n",
    "    file.write(\"The threshold for this file is \" + str(threshold) + \"\\n\")\n",
    "    resultsDF = resultsDF.set_index(keys = [resultsDF[\"File\"].apply(lambda x: x[:x.find(\".wav\")+4]), \"Start\"], drop=False)\n",
    "    resultsDF = resultsDF.sort_index()\n",
    "    for index, data in resultsDF.iterrows(): # Want to combine sequential segments\n",
    "        i = i+1\n",
    "        if data[\"File\"][:data[\"File\"].find(\".wav\") + 4] != currFile:\n",
    "            if currStart != -1:\n",
    "                print(\"some\")\n",
    "                currEnd = resultsDF[resultsDF[\"File\"].apply(lambda x: x[:x.find(\".wav\")+4] == currFile)][\"End\"].max()\n",
    "                print(\"Time (hh:mm:ss) {:02d}:{:02d}:{:02d} to {:02d}:{:02d}:{:02d} is predicted to have calls with a probability of {:.2f}\\n\".format(int(currStart/60/60), int(currStart/60%60), int(currStart%60%60), int(currEnd/60/60), int(currEnd/60%60), int(currEnd%60%60), avgProb))\n",
    "                file.write(\"Time (hh:mm:ss) {:02d}:{:02d}:{:02d} to {:02d}:{:02d}:{:02d} is predicted to have calls with a probability of {:.2f}\\n\".format(int(currStart/60/60), int(currStart/60%60), int(currStart%60%60), int(currEnd/60/60), int(currEnd/60%60), int(currEnd%60%60), avgProb))\n",
    "            else:\n",
    "                print(\"else\")\n",
    "                currStart = currEnd\n",
    "                currEnd = resultsDF[resultsDF[\"File\"].apply(lambda x: x[:x.find(\".wav\")+4] == currFile)][\"End\"].max()\n",
    "                #file.write(\"Time (hh:mm:ss) {:02d}:{:02d}:{:02d} to {:02d}:{:02d}:{:02d} is predicted to NOT have calls with a probability of {:.2f}\\n\".format(int(currEnd/60/60), int(currEnd/60%60), int(currEnd%60%60), int(currStart/60/60), int(currStart/60%60), int(currStart%60%60), 1-avgProb))\n",
    "            currStart = -1\n",
    "            currEnd = 0\n",
    "            file.write(\"-----------------------------------\\nFile: \" + data[\"File\"][:data[\"File\"].find(\".wav\") + 4] + \"\\n\")\n",
    "            currFile = data[\"File\"][:data[\"File\"].find(\".wav\") + 4]\n",
    "        if data[\"Prediction\"][1] > threshold and currStart == -1:\n",
    "            currStart = data[\"Start\"]\n",
    "            #file.write(\"Time (hh:mm:ss) {:02d}:{:02d}:{:02d} to {:02d}:{:02d}:{:02d} is predicted to NOT have calls with a probability of {:.2f}\\n\".format(int(currEnd/60/60), int(currEnd/60%60), int(currEnd%60%60), int(currStart/60/60), int(currStart/60%60), int(currStart%60%60), 1-avgProb))\n",
    "            avgProb = data[\"Prediction\"][1]\n",
    "            i=0\n",
    "        elif data[\"Prediction\"][1] > threshold and currStart != -1:\n",
    "            avgProb = ((avgProb * i) + data[\"Prediction\"][1])/(i+1)\n",
    "            continue\n",
    "        elif data[\"Prediction\"][1] < threshold and currStart != -1:\n",
    "            currEnd = data[\"End\"]\n",
    "            file.write(\"Time (hh:mm:ss) {:02d}:{:02d}:{:02d} to {:02d}:{:02d}:{:02d} is predicted to have calls with a probability of {:.2f}\\n\".format(int(currStart/60/60), int(currStart/60%60), int(currStart%60%60), int(currEnd/60/60), int(currEnd/60%60), int(currEnd%60%60), avgProb))\n",
    "            currStart = -1\n",
    "            avgProb = data[\"Prediction\"][1]\n",
    "            i=0\n",
    "        elif data[\"Prediction\"][1] < threshold and currStart == -1:\n",
    "            avgProb = ((avgProb * i) + data[\"Prediction\"][1])/(i+1)\n",
    "            continue\n",
    "    if currStart != -1:\n",
    "        print(\"some\")\n",
    "        currEnd = resultsDF[\"End\"].max()\n",
    "        file.write(\"Time (hh:mm:ss) {:02d}:{:02d}:{:02d} to {:02d}:{:02d}:{:02d} is predicted to have calls with a probability of {:.2f}\\n\".format(int(currStart/60/60), int(currStart/60%60), int(currStart%60%60), int(currEnd/60/60), int(currEnd/60%60), int(currEnd%60%60), avgProb))\n",
    "    else:\n",
    "        print(\"else\")\n",
    "        currStart = currEnd\n",
    "        currEnd = resultsDF[\"End\"].max()\n",
    "        #file.write(\"Time (hh:mm:ss) {:02d}:{:02d}:{:02d} to {:02d}:{:02d}:{:02d} is predicted to NOT have calls with a probability of {:.2f}\\n\".format(int(currEnd/60/60), int(currEnd/60%60), int(currEnd%60%60), int(currStart/60/60), int(currStart/60%60), int(currStart%60%60), 1-avgProb))\n",
    "    file.close()"
   ]
  },
  {
   "cell_type": "code",
   "execution_count": 73,
   "id": "44042365-6a54-425b-8153-25c5c25849c9",
   "metadata": {
    "tags": []
   },
   "outputs": [],
   "source": [
    "def compileResultsRaven(resultsDF, localStore, threshold = .5): #IDK if this is worth doing\n",
    "    return"
   ]
  },
  {
   "cell_type": "code",
   "execution_count": 74,
   "id": "39929853-b6d9-4f80-99fe-9c5fd8b436ed",
   "metadata": {
    "tags": []
   },
   "outputs": [
    {
     "name": "stdout",
     "output_type": "stream",
     "text": [
      "False\n"
     ]
    }
   ],
   "source": [
    "resultsDF1 = getPreds(s3_prediction_output_path, local_prediciton_temp_store, s3_bucket_name)\n",
    "s3.download_file(s3_bucket_name, s3_time_stamps, local_prediciton_temp_store + \"/timestamps.csv\")\n",
    "\n",
    "timeStamps = pd.read_csv(local_prediciton_temp_store + \"/timestamps.csv\", sep = \"\\t\", names = [\"index\", \"File\", \"Start\", \"End\"])\n",
    "\n",
    "timeStamps[\"File\"] = timeStamps[\"File\"].str.split(\"/\").apply(lambda x: x[-1])\n",
    "fullResultsDF1 = pd.merge(left = resultsDF1, right = timeStamps)"
   ]
  },
  {
   "cell_type": "code",
   "execution_count": 75,
   "id": "5d572a32-a4d6-446c-a982-13a88b10452b",
   "metadata": {
    "scrolled": true,
    "tags": []
   },
   "outputs": [
    {
     "data": {
      "text/html": [
       "<div>\n",
       "<style scoped>\n",
       "    .dataframe tbody tr th:only-of-type {\n",
       "        vertical-align: middle;\n",
       "    }\n",
       "\n",
       "    .dataframe tbody tr th {\n",
       "        vertical-align: top;\n",
       "    }\n",
       "\n",
       "    .dataframe thead th {\n",
       "        text-align: right;\n",
       "    }\n",
       "</style>\n",
       "<table border=\"1\" class=\"dataframe\">\n",
       "  <thead>\n",
       "    <tr style=\"text-align: right;\">\n",
       "      <th></th>\n",
       "      <th>File</th>\n",
       "      <th>Prediction</th>\n",
       "      <th>index</th>\n",
       "      <th>Start</th>\n",
       "      <th>End</th>\n",
       "    </tr>\n",
       "  </thead>\n",
       "  <tbody>\n",
       "    <tr>\n",
       "      <th>0</th>\n",
       "      <td>6805.230522001009_processed.wav_1.png</td>\n",
       "      <td>[0.7083271145820618, 0.29167288541793823]</td>\n",
       "      <td>1</td>\n",
       "      <td>0.000000</td>\n",
       "      <td>6.399772</td>\n",
       "    </tr>\n",
       "    <tr>\n",
       "      <th>1</th>\n",
       "      <td>6805.230522001009_processed.wav_10.png</td>\n",
       "      <td>[0.686847984790802, 0.3131519854068756]</td>\n",
       "      <td>10</td>\n",
       "      <td>57.597952</td>\n",
       "      <td>63.997725</td>\n",
       "    </tr>\n",
       "    <tr>\n",
       "      <th>2</th>\n",
       "      <td>6805.230522001009_processed.wav_100.png</td>\n",
       "      <td>[0.6988726258277893, 0.3011273741722107]</td>\n",
       "      <td>100</td>\n",
       "      <td>633.577473</td>\n",
       "      <td>639.977245</td>\n",
       "    </tr>\n",
       "    <tr>\n",
       "      <th>3</th>\n",
       "      <td>6805.230522001009_processed.wav_101.png</td>\n",
       "      <td>[0.6903382539749146, 0.30966171622276306]</td>\n",
       "      <td>101</td>\n",
       "      <td>639.977245</td>\n",
       "      <td>646.377018</td>\n",
       "    </tr>\n",
       "    <tr>\n",
       "      <th>4</th>\n",
       "      <td>6805.230522001009_processed.wav_102.png</td>\n",
       "      <td>[0.6948035955429077, 0.3051963448524475]</td>\n",
       "      <td>102</td>\n",
       "      <td>646.377018</td>\n",
       "      <td>652.776790</td>\n",
       "    </tr>\n",
       "    <tr>\n",
       "      <th>...</th>\n",
       "      <td>...</td>\n",
       "      <td>...</td>\n",
       "      <td>...</td>\n",
       "      <td>...</td>\n",
       "      <td>...</td>\n",
       "    </tr>\n",
       "    <tr>\n",
       "      <th>557</th>\n",
       "      <td>6805.230522004009_processed.wav_558.png</td>\n",
       "      <td>[0.6946178674697876, 0.3053821623325348]</td>\n",
       "      <td>558</td>\n",
       "      <td>1766.337199</td>\n",
       "      <td>1772.736972</td>\n",
       "    </tr>\n",
       "    <tr>\n",
       "      <th>558</th>\n",
       "      <td>6805.230522004009_processed.wav_559.png</td>\n",
       "      <td>[0.6881067752838135, 0.31189319491386414]</td>\n",
       "      <td>559</td>\n",
       "      <td>1772.736972</td>\n",
       "      <td>1779.136744</td>\n",
       "    </tr>\n",
       "    <tr>\n",
       "      <th>559</th>\n",
       "      <td>6805.230522004009_processed.wav_560.png</td>\n",
       "      <td>[0.6934952735900879, 0.3065047562122345]</td>\n",
       "      <td>560</td>\n",
       "      <td>1779.136744</td>\n",
       "      <td>1785.536517</td>\n",
       "    </tr>\n",
       "    <tr>\n",
       "      <th>560</th>\n",
       "      <td>6805.230522004009_processed.wav_561.png</td>\n",
       "      <td>[0.6909915208816528, 0.30900850892066956]</td>\n",
       "      <td>561</td>\n",
       "      <td>1785.536517</td>\n",
       "      <td>1791.936289</td>\n",
       "    </tr>\n",
       "    <tr>\n",
       "      <th>561</th>\n",
       "      <td>6805.230522004009_processed.wav_562.png</td>\n",
       "      <td>[0.6921890377998352, 0.3078109323978424]</td>\n",
       "      <td>562</td>\n",
       "      <td>1791.936289</td>\n",
       "      <td>1798.336061</td>\n",
       "    </tr>\n",
       "  </tbody>\n",
       "</table>\n",
       "<p>562 rows × 5 columns</p>\n",
       "</div>"
      ],
      "text/plain": [
       "                                        File  \\\n",
       "0      6805.230522001009_processed.wav_1.png   \n",
       "1     6805.230522001009_processed.wav_10.png   \n",
       "2    6805.230522001009_processed.wav_100.png   \n",
       "3    6805.230522001009_processed.wav_101.png   \n",
       "4    6805.230522001009_processed.wav_102.png   \n",
       "..                                       ...   \n",
       "557  6805.230522004009_processed.wav_558.png   \n",
       "558  6805.230522004009_processed.wav_559.png   \n",
       "559  6805.230522004009_processed.wav_560.png   \n",
       "560  6805.230522004009_processed.wav_561.png   \n",
       "561  6805.230522004009_processed.wav_562.png   \n",
       "\n",
       "                                    Prediction  index        Start  \\\n",
       "0    [0.7083271145820618, 0.29167288541793823]      1     0.000000   \n",
       "1      [0.686847984790802, 0.3131519854068756]     10    57.597952   \n",
       "2     [0.6988726258277893, 0.3011273741722107]    100   633.577473   \n",
       "3    [0.6903382539749146, 0.30966171622276306]    101   639.977245   \n",
       "4     [0.6948035955429077, 0.3051963448524475]    102   646.377018   \n",
       "..                                         ...    ...          ...   \n",
       "557   [0.6946178674697876, 0.3053821623325348]    558  1766.337199   \n",
       "558  [0.6881067752838135, 0.31189319491386414]    559  1772.736972   \n",
       "559   [0.6934952735900879, 0.3065047562122345]    560  1779.136744   \n",
       "560  [0.6909915208816528, 0.30900850892066956]    561  1785.536517   \n",
       "561   [0.6921890377998352, 0.3078109323978424]    562  1791.936289   \n",
       "\n",
       "             End  \n",
       "0       6.399772  \n",
       "1      63.997725  \n",
       "2     639.977245  \n",
       "3     646.377018  \n",
       "4     652.776790  \n",
       "..           ...  \n",
       "557  1772.736972  \n",
       "558  1779.136744  \n",
       "559  1785.536517  \n",
       "560  1791.936289  \n",
       "561  1798.336061  \n",
       "\n",
       "[562 rows x 5 columns]"
      ]
     },
     "execution_count": 75,
     "metadata": {},
     "output_type": "execute_result"
    }
   ],
   "source": [
    "fullResultsDF1"
   ]
  },
  {
   "cell_type": "code",
   "execution_count": 76,
   "id": "81090c76-c761-4e56-851d-7dbf1f7db4f8",
   "metadata": {
    "tags": []
   },
   "outputs": [],
   "source": [
    "compileResultsVerbose(fullResultsDF1, local_prediciton_temp_store)"
   ]
  },
  {
   "cell_type": "code",
   "execution_count": 111,
   "id": "b9bb10be-7c8b-4e23-bc4f-45ea37f6063b",
   "metadata": {
    "tags": []
   },
   "outputs": [
    {
     "name": "stdout",
     "output_type": "stream",
     "text": [
      "else\n",
      "some\n",
      "Time (hh:mm:ss) 00:29:26 to 00:29:58 is predicted to have calls with a probability of 0.31\n",
      "\n",
      "some\n"
     ]
    }
   ],
   "source": [
    "compileResults(fullResultsDF1, local_prediciton_temp_store, .3)"
   ]
  },
  {
   "cell_type": "code",
   "execution_count": null,
   "id": "9769ea1c-4a78-4756-83bb-cc1bd3097d72",
   "metadata": {},
   "outputs": [],
   "source": []
  }
 ],
 "metadata": {
  "kernelspec": {
   "display_name": "conda_tensorflow2_p310",
   "language": "python",
   "name": "conda_tensorflow2_p310"
  },
  "language_info": {
   "codemirror_mode": {
    "name": "ipython",
    "version": 3
   },
   "file_extension": ".py",
   "mimetype": "text/x-python",
   "name": "python",
   "nbconvert_exporter": "python",
   "pygments_lexer": "ipython3",
   "version": "3.10.14"
  }
 },
 "nbformat": 4,
 "nbformat_minor": 5
}
