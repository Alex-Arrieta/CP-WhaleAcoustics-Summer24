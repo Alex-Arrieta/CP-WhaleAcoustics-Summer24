{
 "cells": [
  {
   "cell_type": "markdown",
   "id": "46f377aa",
   "metadata": {},
   "source": [
    "# This notebook allows the Bio Team to take a WAV file from the \"fullsize_files/\" folder in the professor's S3 Bucket, decimate it, and obtain the decimated WAV file. This decimated WAV file can then be uploaded to the \"decimated_files/\" folder in the S3 Bucket."
   ]
  },
  {
   "cell_type": "markdown",
   "id": "dae798dc",
   "metadata": {},
   "source": [
    "### The Data Science Team is also welcome to use this notebook, but their involvement should be discussed with the professor and the Bio Team beforehand."
   ]
  },
  {
   "cell_type": "markdown",
   "id": "dfe6bcf6",
   "metadata": {},
   "source": [
    "# Between the [] brackets, type the name of the WAV file you want predictions for (make sure you put quotes around the name)."
   ]
  },
  {
   "cell_type": "code",
   "execution_count": null,
   "id": "8edfdb22",
   "metadata": {},
   "outputs": [],
   "source": [
    "\"\"\"\n",
    "EXAMPLE:\n",
    "wav_fname = [\"671658014.181008033412\"]\n",
    "\"\"\"\n",
    "wav_fname = [INSERT_FULLSIZE_WAV_FILE_NAME_HERE]"
   ]
  },
  {
   "cell_type": "markdown",
   "id": "63ea2bde",
   "metadata": {},
   "source": [
    "# Now you can click \"Run\" -> \"Run All\" in the menu and then scroll to the bottom of this notebook."
   ]
  },
  {
   "cell_type": "markdown",
   "id": "4137c04c",
   "metadata": {},
   "source": [
    "## Feel free to ignore everything else, the code will work as-intended."
   ]
  },
  {
   "cell_type": "code",
   "execution_count": null,
   "id": "60511192",
   "metadata": {},
   "outputs": [],
   "source": [
    "# Import Statement\n",
    "import boto3"
   ]
  },
  {
   "cell_type": "code",
   "execution_count": null,
   "id": "ba4e1f78",
   "metadata": {},
   "outputs": [],
   "source": [
    "# Creates a connection to bucket\n",
    "s3 = boto3.resource('s3')\n",
    "# NOTE: Change the following name of the S3 Bucket (in parentheses) to reflect the name of the S3 Bucket for your current AWS account.\n",
    "bucket = s3.Bucket('monitoring-whale-recordings')"
   ]
  },
  {
   "cell_type": "code",
   "execution_count": null,
   "id": "7202fd41",
   "metadata": {},
   "outputs": [],
   "source": [
    "# Import Statements\n",
    "from scipy.io import wavfile\n",
    "from scipy import signal\n",
    "import warnings\n",
    "import numpy as np\n",
    "import os\n",
    "from os import path\n",
    "from tqdm import tqdm"
   ]
  },
  {
   "cell_type": "code",
   "execution_count": null,
   "id": "2537433e",
   "metadata": {},
   "outputs": [],
   "source": [
    "def process_wav_file(fpath, rate=12, norm=0.5):\n",
    "    \"\"\"\n",
    "    Decimates and normalizes a WAV file to the range [-norm, norm].\n",
    "    \n",
    "    PARAMETERS\n",
    "    ----------\n",
    "    fpath : str\n",
    "        path to the .wav file to process (e.g., 'fullsize_wav_files/671658014.181008033412.wav')\n",
    "    rate : int, optional (default: 12)\n",
    "        decimation rate (by default reduces samples by a factor of 12)\n",
    "    norm : float, optional (default: 0.5)\n",
    "        absolute value of the minimum and maximum sample\n",
    "    ----------\n",
    "    \n",
    "    RETURNS\n",
    "    ----------\n",
    "    sr : int\n",
    "        new sample rate after decimation\n",
    "    data : np.ndarray\n",
    "        array of processed data\n",
    "    ----------\n",
    "    \"\"\"\n",
    "    # Reads information from WAV file\n",
    "    sr, data = wavfile.read(fpath)\n",
    "    # Decimates WAV file\n",
    "    data = signal.decimate(data, rate)\n",
    "    # Normalizes WAV file\n",
    "    data = data.astype(float)\n",
    "    data = data - data.min()\n",
    "    data = (data / data.max() * 2.0) - 1.0\n",
    "    data = data * norm\n",
    "    sr = sr // rate\n",
    "        \n",
    "    return sr, data\n",
    "\n",
    "\n",
    "def process_directory_wav_files(\n",
    "        wav_fname,\n",
    "        bucket_path,\n",
    "        input_directory,\n",
    "        output_directory,\n",
    "        rate=12,\n",
    "        norm=0.5,\n",
    "        dtype=np.int16,\n",
    "        show_progress=True):\n",
    "    \"\"\"\n",
    "    Decimates and normalizes wav_fname (located in input_directory) then saves to output_directory.\n",
    "    \n",
    "    PARAMETERS\n",
    "    ----------\n",
    "    wav_fname: list of strings\n",
    "        The name of the WAV file(s) to download from the S3 Bucket for decimation (without the \".wav\" portion)\n",
    "        (Technically, you are allowed to specify multiple wav file names in the list. \n",
    "            However, I strongly recommend only specifying one due to the time investment and added complexity.)\n",
    "    bucket_path: str\n",
    "        path to the folder containing the WAV file within the S3 Bucket\n",
    "    input_directory : str\n",
    "        path to the input directory containing .wav files\n",
    "    output_directory : str\n",
    "        path to the output directory to save processed .wav files\n",
    "    rate : int, optional (default: 12)\n",
    "        decimation rate (by default reduces samples by a factor of 12)\n",
    "    norm : float, optional (default: 0.5)\n",
    "        absolute value of the minimum and maximum sample\n",
    "    dtype : integer data type, optional (default: np.int16)\n",
    "        integer data type to convert wav samples to\n",
    "    show_progress : bool, optional (default: True)\n",
    "        flag to control whether progress bar is shown or hidden\n",
    "    ----------\n",
    "        \n",
    "    RETURNS\n",
    "    ----------\n",
    "        N/A\n",
    "    ----------\n",
    "    \"\"\"\n",
    "    # Ensures that \"norm\" value is valid\n",
    "    if norm < 0.0 or norm > 1.0:\n",
    "        new_norm = np.clip(norm, 0.0, 1.0)\n",
    "        warnings.warn(\n",
    "            \"({}) Norm must be between 0.0 and 1.0, not {:g}. \" \\\n",
    "            \"Clipping to {:g}.\".format(\n",
    "                \"process_directory_wav_files\",\n",
    "                norm,\n",
    "                new_norm)\n",
    "        )\n",
    "        norm = new_norm\n",
    "\n",
    "    # Downloads WAV file(s) from S3 Bucket\n",
    "    for fname in wav_fname:\n",
    "        file_name = f\"{fname}.wav\"\n",
    "        notebook_path = path.join(input_directory, file_name)\n",
    "        bucket.download_file(bucket_path+file_name, notebook_path)\n",
    "\n",
    "    # Makes list of all WAV files in \"input_directory\"\n",
    "    fnames = [\n",
    "        fname for fname in os.listdir(input_directory) if fname.endswith(\".wav\")\n",
    "    ]\n",
    "    \n",
    "    # Prepares progress bar if show_progress=True\n",
    "    file_iter = tqdm(fnames) if show_progress else fnames\n",
    "    # Calls process_wav_file() to decimate the WAV file(s) and saves to output_directory\n",
    "    for fname in file_iter:\n",
    "        fpath = path.join(input_directory, fname)\n",
    "        sr, data = process_wav_file(fpath, rate=rate, norm=norm)\n",
    "        data = (data * np.iinfo(dtype).max).astype(dtype)\n",
    "        # Data now spans half of the dtype's span and is 0-centered.\n",
    "        out_fname = \"{}_processed.wav\".format(path.splitext(fname)[0])\n",
    "        wavfile.write(path.join(output_directory, out_fname), sr, data)\n",
    "\n",
    "\n",
    "def finish():\n",
    "    \"\"\"Tells the Bio Team that decimation is complete.\"\"\"\n",
    "    print(\"Done!\")"
   ]
  },
  {
   "cell_type": "code",
   "execution_count": null,
   "id": "a573119e",
   "metadata": {},
   "outputs": [],
   "source": [
    "bucket_path = \"wav-files/fullsize_files/awaiting_annotation/\"\n",
    "process_directory_wav_files(wav_fname = wav_fname, bucket_path = bucket_path, input_directory = \"fullsize_wav_files\", output_directory = \"decimated_wav_files\")\n",
    "finish()"
   ]
  }
 ],
 "metadata": {
  "kernelspec": {
   "display_name": "conda_amazonei_pytorch_latest_p37",
   "language": "python",
   "name": "conda_amazonei_pytorch_latest_p37"
  },
  "language_info": {
   "codemirror_mode": {
    "name": "ipython",
    "version": 3
   },
   "file_extension": ".py",
   "mimetype": "text/x-python",
   "name": "python",
   "nbconvert_exporter": "python",
   "pygments_lexer": "ipython3",
   "version": "3.7.12"
  }
 },
 "nbformat": 4,
 "nbformat_minor": 5
}
